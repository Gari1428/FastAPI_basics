{
 "cells": [
  {
   "cell_type": "code",
   "execution_count": 13,
   "id": "5ac688ed-0f80-47ae-8650-108991a1c8b4",
   "metadata": {},
   "outputs": [],
   "source": [
    "import requests"
   ]
  },
  {
   "cell_type": "code",
   "execution_count": 14,
   "id": "e830c6be-5187-492b-bd98-407fefb22ac6",
   "metadata": {},
   "outputs": [
    {
     "data": {
      "text/plain": [
       "<Response [200]>"
      ]
     },
     "execution_count": 14,
     "metadata": {},
     "output_type": "execute_result"
    }
   ],
   "source": [
    "url = \"https://jsonplaceholder.typicode.com/posts/1\"\n",
    "\n",
    "#GET request\n",
    "response = requests.get(url)\n",
    "response"
   ]
  },
  {
   "cell_type": "code",
   "execution_count": 15,
   "id": "82eed987-8c3f-4eb3-8a0d-e02f5a26d12e",
   "metadata": {},
   "outputs": [
    {
     "data": {
      "text/plain": [
       "['__attrs__',\n",
       " '__bool__',\n",
       " '__class__',\n",
       " '__delattr__',\n",
       " '__dict__',\n",
       " '__dir__',\n",
       " '__doc__',\n",
       " '__enter__',\n",
       " '__eq__',\n",
       " '__exit__',\n",
       " '__firstlineno__',\n",
       " '__format__',\n",
       " '__ge__',\n",
       " '__getattribute__',\n",
       " '__getstate__',\n",
       " '__gt__',\n",
       " '__hash__',\n",
       " '__init__',\n",
       " '__init_subclass__',\n",
       " '__iter__',\n",
       " '__le__',\n",
       " '__lt__',\n",
       " '__module__',\n",
       " '__ne__',\n",
       " '__new__',\n",
       " '__nonzero__',\n",
       " '__reduce__',\n",
       " '__reduce_ex__',\n",
       " '__repr__',\n",
       " '__setattr__',\n",
       " '__setstate__',\n",
       " '__sizeof__',\n",
       " '__static_attributes__',\n",
       " '__str__',\n",
       " '__subclasshook__',\n",
       " '__weakref__',\n",
       " '_content',\n",
       " '_content_consumed',\n",
       " '_next',\n",
       " 'apparent_encoding',\n",
       " 'close',\n",
       " 'connection',\n",
       " 'content',\n",
       " 'cookies',\n",
       " 'elapsed',\n",
       " 'encoding',\n",
       " 'headers',\n",
       " 'history',\n",
       " 'is_permanent_redirect',\n",
       " 'is_redirect',\n",
       " 'iter_content',\n",
       " 'iter_lines',\n",
       " 'json',\n",
       " 'links',\n",
       " 'next',\n",
       " 'ok',\n",
       " 'raise_for_status',\n",
       " 'raw',\n",
       " 'reason',\n",
       " 'request',\n",
       " 'status_code',\n",
       " 'text',\n",
       " 'url']"
      ]
     },
     "execution_count": 15,
     "metadata": {},
     "output_type": "execute_result"
    }
   ],
   "source": [
    "dir(response)"
   ]
  },
  {
   "cell_type": "code",
   "execution_count": 16,
   "id": "d2304a1d-f7a7-4ac7-83e0-09f9259bc022",
   "metadata": {},
   "outputs": [
    {
     "data": {
      "text/plain": [
       "200"
      ]
     },
     "execution_count": 16,
     "metadata": {},
     "output_type": "execute_result"
    }
   ],
   "source": [
    "response.status_code"
   ]
  },
  {
   "cell_type": "code",
   "execution_count": 17,
   "id": "778b77c5-bd72-40c0-98c2-caf42987e3fc",
   "metadata": {},
   "outputs": [
    {
     "name": "stdout",
     "output_type": "stream",
     "text": [
      "{'userId': 1, 'id': 1, 'title': 'sunt aut facere repellat provident occaecati excepturi optio reprehenderit', 'body': 'quia et suscipit\\nsuscipit recusandae consequuntur expedita et cum\\nreprehenderit molestiae ut ut quas totam\\nnostrum rerum est autem sunt rem eveniet architecto'}\n"
     ]
    }
   ],
   "source": [
    "if response.status_code == 200:\n",
    "    data = response.json()\n",
    "    print(data)\n",
    "else:\n",
    "    print(\"Failed to retrieve data\")"
   ]
  },
  {
   "cell_type": "code",
   "execution_count": 18,
   "id": "ea18f415-26f6-44ce-a15d-670b616ab423",
   "metadata": {},
   "outputs": [
    {
     "data": {
      "text/plain": [
       "201"
      ]
     },
     "execution_count": 18,
     "metadata": {},
     "output_type": "execute_result"
    }
   ],
   "source": [
    "url = \"https://jsonplaceholder.typicode.com/posts\"\n",
    "\n",
    "# Data to send in the POST request\n",
    "\n",
    "data = {\n",
    "    \"title\": \"New msg\",\n",
    "    \"body\" : \"Welcome to the basics Of API\",\n",
    "    \"userId\" : 1\n",
    "}\n",
    "\n",
    "response = requests.post(url,json = data)\n",
    "response.status_code"
   ]
  },
  {
   "cell_type": "markdown",
   "id": "c66a7630-fa54-4821-8c9f-ea97858cc137",
   "metadata": {},
   "source": [
    "Common codes:\n",
    "\n",
    "200 → OK (The request was successful, usually for GET)\n",
    "\n",
    "201 → Created (The resource was successfully created — expected for POST requests)\n",
    "\n",
    "400 → Bad Request (The server could not understand the request- invalid request )\n",
    "\n",
    "401 → Unauthorized (Authentication is required)\n",
    "\n",
    "404 → Not Found (URL or requested resource doesn’t exist)\n",
    "\n",
    "500 → Server Error (Problem on the server side)"
   ]
  },
  {
   "cell_type": "code",
   "execution_count": 19,
   "id": "2a806405-1fcf-473b-a4ca-c2afd4820392",
   "metadata": {},
   "outputs": [
    {
     "data": {
      "text/plain": [
       "<Response [200]>"
      ]
     },
     "execution_count": 19,
     "metadata": {},
     "output_type": "execute_result"
    }
   ],
   "source": [
    "url = \"https://jsonplaceholder.typicode.com/posts\"\n",
    "\n",
    "# Query parameters\n",
    "\n",
    "params = {\n",
    "    \"id\" : 7\n",
    "}\n",
    "\n",
    "# Append URL \"https://jsonplaceholder.typicode.com/posts?id=7\"\n",
    "\n",
    "response = requests.get(url, params = params)\n",
    "response"
   ]
  },
  {
   "cell_type": "code",
   "execution_count": 20,
   "id": "4f72aebf-703e-4365-b377-f6a98975941c",
   "metadata": {},
   "outputs": [
    {
     "name": "stdout",
     "output_type": "stream",
     "text": [
      "[{'userId': 1, 'id': 7, 'title': 'magnam facilis autem', 'body': 'dolore placeat quibusdam ea quo vitae\\nmagni quis enim qui quis quo nemo aut saepe\\nquidem repellat excepturi ut quia\\nsunt ut sequi eos ea sed quas'}]\n"
     ]
    }
   ],
   "source": [
    "data = response.json()\n",
    "print(data)"
   ]
  },
  {
   "cell_type": "markdown",
   "id": "f6b36a00-52c3-42f1-b319-cd1c2f08f9fe",
   "metadata": {},
   "source": [
    "Coinbase API"
   ]
  },
  {
   "cell_type": "code",
   "execution_count": 26,
   "id": "dd6b9a34-5442-4559-9d8e-2538c7ac25ca",
   "metadata": {},
   "outputs": [
    {
     "data": {
      "text/plain": [
       "200"
      ]
     },
     "execution_count": 26,
     "metadata": {},
     "output_type": "execute_result"
    }
   ],
   "source": [
    "app_id = \"bb2cf49bfc3745ddb183c49355d62319\"\n",
    "\n",
    "url = f\"https://openexchangerates.org/api/latest.json?app_id={app_id}\"\n",
    "\n",
    "response = requests.get(url)\n",
    "response.status_code"
   ]
  },
  {
   "cell_type": "code",
   "execution_count": 27,
   "id": "0289c81f-a957-423d-a821-f914530b6dc5",
   "metadata": {},
   "outputs": [
    {
     "name": "stdout",
     "output_type": "stream",
     "text": [
      "{'disclaimer': 'Usage subject to terms: https://openexchangerates.org/terms', 'license': 'https://openexchangerates.org/license', 'timestamp': 1755262800, 'base': 'USD', 'rates': {'AED': 3.67293, 'AFN': 68.331908, 'ALL': 83.207863, 'AMD': 382.634934, 'ANG': 1.79, 'AOA': 911.955, 'ARS': 1298.5056, 'AUD': 1.534622, 'AWG': 1.8015, 'AZN': 1.7, 'BAM': 1.673054, 'BBD': 2, 'BDT': 121.454217, 'BGN': 1.673305, 'BHD': 0.377008, 'BIF': 2981.112129, 'BMD': 1, 'BND': 1.281694, 'BOB': 6.907525, 'BRL': 5.391, 'BSD': 1, 'BTC': 8.41903e-06, 'BTN': 87.426851, 'BWP': 13.378101, 'BYN': 3.323768, 'BZD': 2.00793, 'CAD': 1.37929, 'CDF': 2911.44961, 'CHF': 0.805409, 'CLF': 0.024611, 'CLP': 965.5, 'CNH': 7.183645, 'CNY': 7.1801, 'COP': 4050.26348, 'CRC': 505.848441, 'CUC': 1, 'CUP': 25.75, 'CVE': 94.324219, 'CZK': 20.932001, 'DJF': 178.01314, 'DKK': 6.382031, 'DOP': 61.531218, 'DZD': 129.67052, 'EGP': 48.3012, 'ERN': 15, 'ETB': 140.789381, 'EUR': 0.855061, 'FJD': 2.25435, 'FKP': 0.737378, 'GBP': 0.737378, 'GEL': 2.695, 'GGP': 0.737378, 'GHS': 10.65, 'GIP': 0.737378, 'GMD': 72.499999, 'GNF': 8667.279346, 'GTQ': 7.667237, 'GYD': 209.056268, 'HKD': 7.820363, 'HNL': 26.167665, 'HRK': 6.444147, 'HTG': 130.80408, 'HUF': 337.584, 'IDR': 16179.762954, 'ILS': 3.375186, 'IMP': 0.737378, 'INR': 87.421754, 'IQD': 1309.496611, 'IRR': 42125, 'ISK': 122.46, 'JEP': 0.737378, 'JMD': 159.957172, 'JOD': 0.709, 'JPY': 146.88311765, 'KES': 129.15, 'KGS': 87.3788, 'KHR': 4004.228182, 'KMF': 422.499752, 'KPW': 900, 'KRW': 1387.677698, 'KWD': 0.30544, 'KYD': 0.83302, 'KZT': 541.496827, 'LAK': 21635.787756, 'LBP': 89501.359764, 'LKR': 300.889726, 'LRD': 200.427715, 'LSL': 17.579384, 'LYD': 5.421607, 'MAD': 9.00556, 'MDL': 16.668948, 'MGA': 4423.097914, 'MKD': 52.634726, 'MMK': 2099, 'MNT': 3592.646, 'MOP': 8.081343, 'MRU': 39.986313, 'MUR': 45.640005, 'MVR': 15.4, 'MWK': 1733.344473, 'MXN': 18.731051, 'MYR': 4.213, 'MZN': 63.959999, 'NAD': 17.579384, 'NGN': 1531.82, 'NIO': 36.783578, 'NOK': 10.174074, 'NPR': 139.882797, 'NZD': 1.686327, 'OMR': 0.384508, 'PAB': 1, 'PEN': 3.563216, 'PGK': 4.15911, 'PHP': 56.943002, 'PKR': 283.614892, 'PLN': 3.64171, 'PYG': 7492.814679, 'QAR': 3.644568, 'RON': 4.3294, 'RSD': 100.161828, 'RUB': 79.79895, 'RWF': 1447.473149, 'SAR': 3.752547, 'SBD': 8.223773, 'SCR': 14.224982, 'SDG': 600.5, 'SEK': 9.559012, 'SGD': 1.282013, 'SHP': 0.737378, 'SLE': 23.2, 'SLL': 20969.5, 'SOS': 571.257018, 'SRD': 37.54, 'SSP': 130.26, 'STD': 22281.8, 'STN': 20.958084, 'SVC': 8.746792, 'SYP': 13002, 'SZL': 17.573995, 'THB': 32.428, 'TJS': 9.321609, 'TMT': 3.51, 'TND': 2.921557, 'TOP': 2.40776, 'TRY': 40.897001, 'TTD': 6.782633, 'TWD': 29.996999, 'TZS': 2611.496551, 'UAH': 41.258598, 'UGX': 3558.612919, 'USD': 1, 'UYU': 39.991447, 'UZS': 12577.261378, 'VES': 134.313046, 'VND': 26274.303731, 'VUV': 119.1167, 'WST': 2.7716, 'XAF': 560.882998, 'XAG': 0.02643482, 'XAU': 0.00029915, 'XCD': 2.70255, 'XCG': 1.801625, 'XDR': 0.702337, 'XOF': 560.882998, 'XPD': 0.00088495, 'XPF': 102.035873, 'XPT': 0.00074459, 'YER': 240.27495, 'ZAR': 17.563951, 'ZMW': 23.166511, 'ZWG': 26.78, 'ZWL': 322}}\n"
     ]
    }
   ],
   "source": [
    "if response.status_code == 200:\n",
    "    data = response.json()\n",
    "    print(data)\n",
    "else:\n",
    "    print(\"Failed to retrieve data\")"
   ]
  },
  {
   "cell_type": "code",
   "execution_count": 34,
   "id": "aa64d830-f267-4da2-b354-0b9a24b0b308",
   "metadata": {},
   "outputs": [
    {
     "data": {
      "text/plain": [
       "<Response [200]>"
      ]
     },
     "execution_count": 34,
     "metadata": {},
     "output_type": "execute_result"
    }
   ],
   "source": [
    "url = f\"https://openexchangerates.org/api/latest.json?app_id={app_id}\"\n",
    "\n",
    "# Query parameters\n",
    "\n",
    "params = {\n",
    "    \"rates\" : \"AZN\"\n",
    "}\n",
    "\n",
    "# Append URL \"https://jsonplaceholder.typicode.com/posts?id=7\"\n",
    "\n",
    "response = requests.get(url, params = params)\n",
    "response"
   ]
  },
  {
   "cell_type": "code",
   "execution_count": 35,
   "id": "5d2709a4-cd4a-44c2-ad83-d84816618678",
   "metadata": {},
   "outputs": [
    {
     "name": "stdout",
     "output_type": "stream",
     "text": [
      "1.7\n"
     ]
    }
   ],
   "source": [
    "data = response.json()\n",
    "print(data[\"rates\"][\"AZN\"])"
   ]
  }
 ],
 "metadata": {
  "kernelspec": {
   "display_name": "Python 3 (ipykernel)",
   "language": "python",
   "name": "python3"
  },
  "language_info": {
   "codemirror_mode": {
    "name": "ipython",
    "version": 3
   },
   "file_extension": ".py",
   "mimetype": "text/x-python",
   "name": "python",
   "nbconvert_exporter": "python",
   "pygments_lexer": "ipython3",
   "version": "3.13.4"
  }
 },
 "nbformat": 4,
 "nbformat_minor": 5
}
